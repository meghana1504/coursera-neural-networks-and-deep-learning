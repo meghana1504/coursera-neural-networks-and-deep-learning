{
 "cells": [
  {
   "cell_type": "markdown",
   "metadata": {},
   "source": [
    "### VECTORISATION :\n",
    "    ART OF GETTING RID OF FOR LOOPS AND REPLACING THEM WITH INBUILT FUNCTIONS WHEREVER POSSIBLE"
   ]
  },
  {
   "cell_type": "markdown",
   "metadata": {},
   "source": [
    "#### COMPARE INBUILT AND NORMAL FUNCTIONS:"
   ]
  },
  {
   "cell_type": "code",
   "execution_count": 10,
   "metadata": {},
   "outputs": [
    {
     "name": "stdout",
     "output_type": "stream",
     "text": [
      "value of c :250308.87417531593\n",
      "using for loop :521.7733383178711 ms\n"
     ]
    }
   ],
   "source": [
    "import numpy as np\n",
    "import time\n",
    "a = np.random.rand(1000000)\n",
    "b = np.random.rand(1000000)\n",
    "\n",
    "#NORMAL METHOD :\n",
    "t1 = time.time()\n",
    "c=0\n",
    "for i in range(0,1000000):\n",
    "    c = c + a[i]*b[i]\n",
    "print(f\"value of c :{c}\")\n",
    "t2 = time.time()\n",
    "print(f\"using for loop :{(t2-t1)*1000 } ms\")"
   ]
  },
  {
   "cell_type": "code",
   "execution_count": 11,
   "metadata": {},
   "outputs": [
    {
     "name": "stdout",
     "output_type": "stream",
     "text": [
      "value of c :250308.87417532146\n",
      "Using inbuilt function np.dot :1.4767646789550781 ms\n"
     ]
    }
   ],
   "source": [
    "#inbuilt function:\n",
    "t3 = time.time()\n",
    "c = np.dot(a,b)\n",
    "t4 = time.time()\n",
    "print(f\"value of c :{c}\")\n",
    "print(f\"Using inbuilt function np.dot :{(t4-t3)*1000} ms\")"
   ]
  },
  {
   "cell_type": "markdown",
   "metadata": {},
   "source": [
    "#### Hence we see kiti farak padto using vectorization"
   ]
  }
 ],
 "metadata": {
  "kernelspec": {
   "display_name": "Python 3",
   "language": "python",
   "name": "python3"
  },
  "language_info": {
   "codemirror_mode": {
    "name": "ipython",
    "version": 3
   },
   "file_extension": ".py",
   "mimetype": "text/x-python",
   "name": "python",
   "nbconvert_exporter": "python",
   "pygments_lexer": "ipython3",
   "version": "3.7.4"
  }
 },
 "nbformat": 4,
 "nbformat_minor": 2
}
